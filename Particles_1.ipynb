{
  "nbformat": 4,
  "nbformat_minor": 0,
  "metadata": {
    "colab": {
      "provenance": [],
      "authorship_tag": "ABX9TyMJEX3Pam0UiUPt8UhB93hz",
      "include_colab_link": true
    },
    "kernelspec": {
      "name": "python3",
      "display_name": "Python 3"
    },
    "language_info": {
      "name": "python"
    }
  },
  "cells": [
    {
      "cell_type": "markdown",
      "metadata": {
        "id": "view-in-github",
        "colab_type": "text"
      },
      "source": [
        "<a href=\"https://colab.research.google.com/github/navgaur/Statistical-Mech-LOCF/blob/main/Particles_1.ipynb\" target=\"_parent\"><img src=\"https://colab.research.google.com/assets/colab-badge.svg\" alt=\"Open In Colab\"/></a>"
      ]
    },
    {
      "cell_type": "markdown",
      "source": [
        "# **Statistical Mechanics Lab**"
      ],
      "metadata": {
        "id": "fCSaXGkwZVoM"
      }
    },
    {
      "cell_type": "markdown",
      "source": [
        "## **Collection of Particles**\n",
        "\n",
        "**Lennard-Jones Potential**: It describes the pairwise interaction between the particles:\n",
        "\n",
        "$$V_{LJ} (r) = 4 \\epsilon \\left[ \\left(\\frac{\\sigma}{r}\\right)^{12} - \\left(\\frac{\\sigma}{r}\\right)^6 \\right] $$\n",
        "\n",
        "where $r$ is the distance between particles, $\\epsilon$ is the depth of potential well and $\\sigma$ is the finite distance at which inter-particle potential is zero.\n"
      ],
      "metadata": {
        "id": "kkQFS7n-ZkvW"
      }
    },
    {
      "cell_type": "code",
      "source": [],
      "metadata": {
        "id": "n2visGDiZsaj"
      },
      "execution_count": null,
      "outputs": []
    }
  ]
}