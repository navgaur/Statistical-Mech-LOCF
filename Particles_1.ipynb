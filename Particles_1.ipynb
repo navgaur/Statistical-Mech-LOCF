{
  "nbformat": 4,
  "nbformat_minor": 0,
  "metadata": {
    "colab": {
      "provenance": [],
      "authorship_tag": "ABX9TyMm1GzAGDuCaRWkRCCjdBG5",
      "include_colab_link": true
    },
    "kernelspec": {
      "name": "python3",
      "display_name": "Python 3"
    },
    "language_info": {
      "name": "python"
    }
  },
  "cells": [
    {
      "cell_type": "markdown",
      "metadata": {
        "id": "view-in-github",
        "colab_type": "text"
      },
      "source": [
        "<a href=\"https://colab.research.google.com/github/navgaur/Statistical-Mech-LOCF/blob/main/Particles_1.ipynb\" target=\"_parent\"><img src=\"https://colab.research.google.com/assets/colab-badge.svg\" alt=\"Open In Colab\"/></a>"
      ]
    },
    {
      "cell_type": "markdown",
      "source": [
        "# **Statistical Mechanics Lab**"
      ],
      "metadata": {
        "id": "fCSaXGkwZVoM"
      }
    },
    {
      "cell_type": "markdown",
      "source": [
        "## **Collection of Particles**\n",
        "\n",
        "**Lennard-Jones Potential**: It describes the pairwise interaction between the particles:\n",
        "\n",
        "$$V_{LJ} (r) = 4 \\epsilon \\left[ \\left(\\frac{\\sigma}{r}\\right)^{12} - \\left(\\frac{\\sigma}{r}\\right)^6 \\right] $$\n",
        "\n",
        "where $r$ is the distance between particles, $\\epsilon$ is the depth of potential well and $\\sigma$ is the finite distance at which inter-particle potential is zero.\n"
      ],
      "metadata": {
        "id": "kkQFS7n-ZkvW"
      }
    },
    {
      "cell_type": "code",
      "source": [
        "import numpy as np\n",
        "import matplotlib.pyplot as plt\n",
        "\n",
        "def lennard_jones_potential(eps,r,sigma):\n",
        "  return 4*eps*((sigma/r)**12 - (sigma/r)**6)\n",
        "\n"
      ],
      "metadata": {
        "id": "n2visGDiZsaj"
      },
      "execution_count": null,
      "outputs": []
    },
    {
      "cell_type": "code",
      "source": [
        "import numpy as np\n",
        "import matplotlib.pyplot as plt\n",
        "from mpl_toolkits.mplot3d import Axes3D  # Required for 3D plotting\n",
        "\n",
        "def lennard_jones_potential(r, epsilon, sigma):\n",
        "    return 4 * epsilon * ((sigma / r)**12 - (sigma / r)**6)\n",
        "\n",
        "def calculate_forces(positions, epsilon, sigma):\n",
        "    num_particles = len(positions)\n",
        "    forces = np.zeros_like(positions)\n",
        "\n",
        "    for i in range(num_particles):\n",
        "        for j in range(i + 1, num_particles):\n",
        "            r_ij = positions[j] - positions[i]\n",
        "            distance = np.linalg.norm(r_ij)\n",
        "            force_magnitude = 24 * epsilon * (\n",
        "                2 * (sigma**12 / distance**14) - (sigma**6 / distance**8)\n",
        "            )\n",
        "            force = force_magnitude * r_ij / distance\n",
        "            forces[i] += force\n",
        "            forces[j] -= force\n",
        "\n",
        "    return forces\n",
        "\n",
        "def run_simulation(num_particles, epsilon, sigma, num_steps, dt):\n",
        "    positions = np.random.rand(num_particles, 3)  # Initialize random positions\n",
        "    velocities = np.random.rand(num_particles, 3)  # Initialize random velocities\n",
        "    masses = np.ones(num_particles)  # Assume equal masses for simplicity\n",
        "    positions = np.array([0.5, 0.52, 0.6])\n",
        "#    positions = np.random.rand(1,3)\n",
        "#    velocities = np.array([0.5, 0.6, 0.7])\n",
        "    print(positions,type(positions))\n",
        "    for step in range(num_steps):\n",
        "        forces = calculate_forces(positions, epsilon, sigma)\n",
        "\n",
        "        # Update positions and velocities using Verlet integration\n",
        "        positions += velocities * dt + 0.5 * forces / masses[:,None] * dt**2\n",
        "        new_forces = calculate_forces(positions, epsilon, sigma)\n",
        "        velocities += 0.5 * (forces + new_forces) / masses[:,None] * dt\n",
        "\n",
        "        # Optional: Record and visualize data\n",
        "        if step % 500 == 0:\n",
        "            # Visualization code (e.g., plotting particle positions)\n",
        "            fig = plt.figure()\n",
        "            ax = fig.add_subplot(111, projection='3d')\n",
        "            ax.scatter(positions[:, 0], positions[:, 1], positions[:, 2], c='b', marker='o')\n",
        "            ax.set_xlabel('X-axis')\n",
        "            ax.set_ylabel('Y-axis')\n",
        "            ax.set_zlabel('Z-axis')\n",
        "            ax.set_title(f'Step {step}')\n",
        "            plt.show()\n",
        "\n",
        "    return positions, velocities\n",
        "\n",
        "# Example usage\n",
        "num_particles = 1\n",
        "epsilon = 2.0\n",
        "sigma = 0.1\n",
        "num_steps = 1000\n",
        "dt = 0.001\n",
        "\n",
        "final_positions, final_velocities = run_simulation(num_particles, epsilon, sigma, num_steps, dt)\n",
        "\n",
        "# Optional: Visualize the final state\n",
        "#fig = plt.figure()\n",
        "#ax = fig.add_subplot(projection='3d')\n",
        "#ax.scatter(final_positions[:, 0], final_positions[:, 1], final_positions[:, 2])\n",
        "#plt.show()\n"
      ],
      "metadata": {
        "colab": {
          "base_uri": "https://localhost:8080/",
          "height": 387
        },
        "id": "oYmuMy44Crak",
        "outputId": "a8c00c4c-7a8b-4f22-ec2f-8d30de443d4f"
      },
      "execution_count": 18,
      "outputs": [
        {
          "output_type": "stream",
          "name": "stdout",
          "text": [
            "[0.5  0.52 0.6 ] <class 'numpy.ndarray'>\n"
          ]
        },
        {
          "output_type": "error",
          "ename": "ValueError",
          "evalue": "non-broadcastable output operand with shape (3,) doesn't match the broadcast shape (1,3)",
          "traceback": [
            "\u001b[0;31m---------------------------------------------------------------------------\u001b[0m",
            "\u001b[0;31mValueError\u001b[0m                                Traceback (most recent call last)",
            "\u001b[0;32m<ipython-input-18-956312860a20>\u001b[0m in \u001b[0;36m<cell line: 62>\u001b[0;34m()\u001b[0m\n\u001b[1;32m     60\u001b[0m \u001b[0mdt\u001b[0m \u001b[0;34m=\u001b[0m \u001b[0;36m0.001\u001b[0m\u001b[0;34m\u001b[0m\u001b[0;34m\u001b[0m\u001b[0m\n\u001b[1;32m     61\u001b[0m \u001b[0;34m\u001b[0m\u001b[0m\n\u001b[0;32m---> 62\u001b[0;31m \u001b[0mfinal_positions\u001b[0m\u001b[0;34m,\u001b[0m \u001b[0mfinal_velocities\u001b[0m \u001b[0;34m=\u001b[0m \u001b[0mrun_simulation\u001b[0m\u001b[0;34m(\u001b[0m\u001b[0mnum_particles\u001b[0m\u001b[0;34m,\u001b[0m \u001b[0mepsilon\u001b[0m\u001b[0;34m,\u001b[0m \u001b[0msigma\u001b[0m\u001b[0;34m,\u001b[0m \u001b[0mnum_steps\u001b[0m\u001b[0;34m,\u001b[0m \u001b[0mdt\u001b[0m\u001b[0;34m)\u001b[0m\u001b[0;34m\u001b[0m\u001b[0;34m\u001b[0m\u001b[0m\n\u001b[0m\u001b[1;32m     63\u001b[0m \u001b[0;34m\u001b[0m\u001b[0m\n\u001b[1;32m     64\u001b[0m \u001b[0;31m# Optional: Visualize the final state\u001b[0m\u001b[0;34m\u001b[0m\u001b[0;34m\u001b[0m\u001b[0m\n",
            "\u001b[0;32m<ipython-input-18-956312860a20>\u001b[0m in \u001b[0;36mrun_simulation\u001b[0;34m(num_particles, epsilon, sigma, num_steps, dt)\u001b[0m\n\u001b[1;32m     35\u001b[0m \u001b[0;34m\u001b[0m\u001b[0m\n\u001b[1;32m     36\u001b[0m         \u001b[0;31m# Update positions and velocities using Verlet integration\u001b[0m\u001b[0;34m\u001b[0m\u001b[0;34m\u001b[0m\u001b[0m\n\u001b[0;32m---> 37\u001b[0;31m         \u001b[0mpositions\u001b[0m \u001b[0;34m+=\u001b[0m \u001b[0mvelocities\u001b[0m \u001b[0;34m*\u001b[0m \u001b[0mdt\u001b[0m \u001b[0;34m+\u001b[0m \u001b[0;36m0.5\u001b[0m \u001b[0;34m*\u001b[0m \u001b[0mforces\u001b[0m \u001b[0;34m/\u001b[0m \u001b[0mmasses\u001b[0m\u001b[0;34m[\u001b[0m\u001b[0;34m:\u001b[0m\u001b[0;34m,\u001b[0m\u001b[0;32mNone\u001b[0m\u001b[0;34m]\u001b[0m \u001b[0;34m*\u001b[0m \u001b[0mdt\u001b[0m\u001b[0;34m**\u001b[0m\u001b[0;36m2\u001b[0m\u001b[0;34m\u001b[0m\u001b[0;34m\u001b[0m\u001b[0m\n\u001b[0m\u001b[1;32m     38\u001b[0m         \u001b[0mnew_forces\u001b[0m \u001b[0;34m=\u001b[0m \u001b[0mcalculate_forces\u001b[0m\u001b[0;34m(\u001b[0m\u001b[0mpositions\u001b[0m\u001b[0;34m,\u001b[0m \u001b[0mepsilon\u001b[0m\u001b[0;34m,\u001b[0m \u001b[0msigma\u001b[0m\u001b[0;34m)\u001b[0m\u001b[0;34m\u001b[0m\u001b[0;34m\u001b[0m\u001b[0m\n\u001b[1;32m     39\u001b[0m         \u001b[0mvelocities\u001b[0m \u001b[0;34m+=\u001b[0m \u001b[0;36m0.5\u001b[0m \u001b[0;34m*\u001b[0m \u001b[0;34m(\u001b[0m\u001b[0mforces\u001b[0m \u001b[0;34m+\u001b[0m \u001b[0mnew_forces\u001b[0m\u001b[0;34m)\u001b[0m \u001b[0;34m/\u001b[0m \u001b[0mmasses\u001b[0m\u001b[0;34m[\u001b[0m\u001b[0;34m:\u001b[0m\u001b[0;34m,\u001b[0m\u001b[0;32mNone\u001b[0m\u001b[0;34m]\u001b[0m \u001b[0;34m*\u001b[0m \u001b[0mdt\u001b[0m\u001b[0;34m\u001b[0m\u001b[0;34m\u001b[0m\u001b[0m\n",
            "\u001b[0;31mValueError\u001b[0m: non-broadcastable output operand with shape (3,) doesn't match the broadcast shape (1,3)"
          ]
        }
      ]
    },
    {
      "cell_type": "code",
      "source": [
        "x=np.random"
      ],
      "metadata": {
        "id": "aaRQjQswusbG"
      },
      "execution_count": null,
      "outputs": []
    }
  ]
}