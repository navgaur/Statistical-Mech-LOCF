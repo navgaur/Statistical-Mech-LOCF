{
  "nbformat": 4,
  "nbformat_minor": 0,
  "metadata": {
    "colab": {
      "provenance": [],
      "authorship_tag": "ABX9TyOhda5fB9ywjGYz4xJFQ6XU",
      "include_colab_link": true
    },
    "kernelspec": {
      "name": "python3",
      "display_name": "Python 3"
    },
    "language_info": {
      "name": "python"
    }
  },
  "cells": [
    {
      "cell_type": "markdown",
      "metadata": {
        "id": "view-in-github",
        "colab_type": "text"
      },
      "source": [
        "<a href=\"https://colab.research.google.com/github/navgaur/Statistical-Mech-LOCF/blob/main/Particles_1.ipynb\" target=\"_parent\"><img src=\"https://colab.research.google.com/assets/colab-badge.svg\" alt=\"Open In Colab\"/></a>"
      ]
    },
    {
      "cell_type": "markdown",
      "source": [
        "# **Statistical Mechanics Lab**"
      ],
      "metadata": {
        "id": "fCSaXGkwZVoM"
      }
    },
    {
      "cell_type": "markdown",
      "source": [
        "## **Collection of Particles**\n",
        "\n",
        "**Lennard-Jones Potential**: It describes the pairwise interaction between the particles:\n",
        "\n",
        "$$V_{LJ} (r) = 4 \\epsilon \\left[ \\left(\\frac{\\sigma}{r}\\right)^{12} - \\left(\\frac{\\sigma}{r}\\right)^6 \\right] $$\n",
        "\n",
        "where $r$ is the distance between particles, $\\epsilon$ is the depth of potential well and $\\sigma$ is the finite distance at which inter-particle potential is zero.\n"
      ],
      "metadata": {
        "id": "kkQFS7n-ZkvW"
      }
    },
    {
      "cell_type": "code",
      "source": [
        "import numpy as np\n",
        "import matplotlib.pyplot as plt\n",
        "\n",
        "def lennard_jones_potential(eps,r,sigma):\n",
        "  return 4*eps*((sigma/r)**12 - (sigma/r)**6)\n",
        "\n"
      ],
      "metadata": {
        "id": "n2visGDiZsaj"
      },
      "execution_count": null,
      "outputs": []
    },
    {
      "cell_type": "code",
      "source": [
        "import numpy as np\n",
        "import matplotlib.pyplot as plt\n",
        "\n",
        "def lennard_jones_potential(r, epsilon, sigma):\n",
        "    \"\"\"\n",
        "    Lennard-Jones potential function.\n",
        "    \"\"\"\n",
        "    return 4 * epsilon * ((sigma / r)**12 - (sigma / r)**6)\n",
        "\n",
        "def calculate_forces(positions, epsilon, sigma):\n",
        "    \"\"\"\n",
        "    Calculate forces between particles using Lennard-Jones potential.\n",
        "    \"\"\"\n",
        "    num_particles = len(positions)\n",
        "    forces = np.zeros_like(positions)\n",
        "\n",
        "    for i in range(num_particles):\n",
        "        for j in range(i + 1, num_particles):\n",
        "            r_ij = positions[j] - positions[i]\n",
        "            distance = np.linalg.norm(r_ij)\n",
        "            force_magnitude = 24 * epsilon * (\n",
        "                2 * (sigma**12 / distance**14) - (sigma**6 / distance**8)\n",
        "            )\n",
        "            force = force_magnitude * r_ij / distance\n",
        "            forces[i] += force\n",
        "            forces[j] -= force\n",
        "\n",
        "    return forces\n",
        "\n",
        "def run_simulation(num_particles, epsilon, sigma, num_steps, dt):\n",
        "    \"\"\"\n",
        "    Run molecular dynamics simulation.\n",
        "    \"\"\"\n",
        "    positions = np.random.rand(num_particles, 3)  # Initialize random positions\n",
        "    velocities = np.random.rand(num_particles, 3)  # Initialize random velocities\n",
        "    masses = np.ones(num_particles)  # Assume equal masses for simplicity\n",
        "\n",
        "    for step in range(num_steps):\n",
        "        forces = calculate_forces(positions, epsilon, sigma)\n",
        "\n",
        "        # Update positions and velocities using Verlet integration\n",
        "        positions += velocities * dt + 0.5 * forces / masses[:,None] * dt**2\n",
        "        new_forces = calculate_forces(positions, epsilon, sigma)\n",
        "        velocities += 0.5 * (forces + new_forces) / masses[:,None] * dt\n",
        "\n",
        "        # Optional: Record and visualize data\n",
        "        if step % 100 == 0:\n",
        "            # Visualization code (e.g., plotting particle positions)\n",
        "            pass\n",
        "\n",
        "    return positions, velocities\n",
        "\n",
        "# Example usage\n",
        "num_particles = 100\n",
        "epsilon = 1.0\n",
        "sigma = 1.0\n",
        "num_steps = 1000\n",
        "dt = 0.001\n",
        "\n",
        "final_positions, final_velocities = run_simulation(num_particles, epsilon, sigma, num_steps, dt)\n",
        "\n",
        "# Optional: Visualize the final state\n",
        "fig = plt.figure()\n",
        "ax = fig.add_subplot(projection='3d')\n",
        "ax.scatter(final_positions[:, 0], final_positions[:, 1], final_positions[:, 2])\n",
        "plt.show()\n"
      ],
      "metadata": {
        "id": "oYmuMy44Crak",
        "outputId": "0c4c3a31-f3eb-4e93-9290-803f673a9ee8",
        "colab": {
          "base_uri": "https://localhost:8080/",
          "height": 393
        }
      },
      "execution_count": 3,
      "outputs": [
        {
          "output_type": "error",
          "ename": "KeyboardInterrupt",
          "evalue": "",
          "traceback": [
            "\u001b[0;31m---------------------------------------------------------------------------\u001b[0m",
            "\u001b[0;31mKeyboardInterrupt\u001b[0m                         Traceback (most recent call last)",
            "\u001b[0;32m<ipython-input-3-09a7f9007090>\u001b[0m in \u001b[0;36m<cell line: 60>\u001b[0;34m()\u001b[0m\n\u001b[1;32m     58\u001b[0m \u001b[0mdt\u001b[0m \u001b[0;34m=\u001b[0m \u001b[0;36m0.001\u001b[0m\u001b[0;34m\u001b[0m\u001b[0;34m\u001b[0m\u001b[0m\n\u001b[1;32m     59\u001b[0m \u001b[0;34m\u001b[0m\u001b[0m\n\u001b[0;32m---> 60\u001b[0;31m \u001b[0mfinal_positions\u001b[0m\u001b[0;34m,\u001b[0m \u001b[0mfinal_velocities\u001b[0m \u001b[0;34m=\u001b[0m \u001b[0mrun_simulation\u001b[0m\u001b[0;34m(\u001b[0m\u001b[0mnum_particles\u001b[0m\u001b[0;34m,\u001b[0m \u001b[0mepsilon\u001b[0m\u001b[0;34m,\u001b[0m \u001b[0msigma\u001b[0m\u001b[0;34m,\u001b[0m \u001b[0mnum_steps\u001b[0m\u001b[0;34m,\u001b[0m \u001b[0mdt\u001b[0m\u001b[0;34m)\u001b[0m\u001b[0;34m\u001b[0m\u001b[0;34m\u001b[0m\u001b[0m\n\u001b[0m\u001b[1;32m     61\u001b[0m \u001b[0;34m\u001b[0m\u001b[0m\n\u001b[1;32m     62\u001b[0m \u001b[0;31m# Optional: Visualize the final state\u001b[0m\u001b[0;34m\u001b[0m\u001b[0;34m\u001b[0m\u001b[0m\n",
            "\u001b[0;32m<ipython-input-3-09a7f9007090>\u001b[0m in \u001b[0;36mrun_simulation\u001b[0;34m(num_particles, epsilon, sigma, num_steps, dt)\u001b[0m\n\u001b[1;32m     37\u001b[0m \u001b[0;34m\u001b[0m\u001b[0m\n\u001b[1;32m     38\u001b[0m     \u001b[0;32mfor\u001b[0m \u001b[0mstep\u001b[0m \u001b[0;32min\u001b[0m \u001b[0mrange\u001b[0m\u001b[0;34m(\u001b[0m\u001b[0mnum_steps\u001b[0m\u001b[0;34m)\u001b[0m\u001b[0;34m:\u001b[0m\u001b[0;34m\u001b[0m\u001b[0;34m\u001b[0m\u001b[0m\n\u001b[0;32m---> 39\u001b[0;31m         \u001b[0mforces\u001b[0m \u001b[0;34m=\u001b[0m \u001b[0mcalculate_forces\u001b[0m\u001b[0;34m(\u001b[0m\u001b[0mpositions\u001b[0m\u001b[0;34m,\u001b[0m \u001b[0mepsilon\u001b[0m\u001b[0;34m,\u001b[0m \u001b[0msigma\u001b[0m\u001b[0;34m)\u001b[0m\u001b[0;34m\u001b[0m\u001b[0;34m\u001b[0m\u001b[0m\n\u001b[0m\u001b[1;32m     40\u001b[0m \u001b[0;34m\u001b[0m\u001b[0m\n\u001b[1;32m     41\u001b[0m         \u001b[0;31m# Update positions and velocities using Verlet integration\u001b[0m\u001b[0;34m\u001b[0m\u001b[0;34m\u001b[0m\u001b[0m\n",
            "\u001b[0;32m<ipython-input-3-09a7f9007090>\u001b[0m in \u001b[0;36mcalculate_forces\u001b[0;34m(positions, epsilon, sigma)\u001b[0m\n\u001b[1;32m     24\u001b[0m             \u001b[0mforce\u001b[0m \u001b[0;34m=\u001b[0m \u001b[0mforce_magnitude\u001b[0m \u001b[0;34m*\u001b[0m \u001b[0mr_ij\u001b[0m \u001b[0;34m/\u001b[0m \u001b[0mdistance\u001b[0m\u001b[0;34m\u001b[0m\u001b[0;34m\u001b[0m\u001b[0m\n\u001b[1;32m     25\u001b[0m             \u001b[0mforces\u001b[0m\u001b[0;34m[\u001b[0m\u001b[0mi\u001b[0m\u001b[0;34m]\u001b[0m \u001b[0;34m+=\u001b[0m \u001b[0mforce\u001b[0m\u001b[0;34m\u001b[0m\u001b[0;34m\u001b[0m\u001b[0m\n\u001b[0;32m---> 26\u001b[0;31m             \u001b[0mforces\u001b[0m\u001b[0;34m[\u001b[0m\u001b[0mj\u001b[0m\u001b[0;34m]\u001b[0m \u001b[0;34m-=\u001b[0m \u001b[0mforce\u001b[0m\u001b[0;34m\u001b[0m\u001b[0;34m\u001b[0m\u001b[0m\n\u001b[0m\u001b[1;32m     27\u001b[0m \u001b[0;34m\u001b[0m\u001b[0m\n\u001b[1;32m     28\u001b[0m     \u001b[0;32mreturn\u001b[0m \u001b[0mforces\u001b[0m\u001b[0;34m\u001b[0m\u001b[0;34m\u001b[0m\u001b[0m\n",
            "\u001b[0;31mKeyboardInterrupt\u001b[0m: "
          ]
        }
      ]
    }
  ]
}