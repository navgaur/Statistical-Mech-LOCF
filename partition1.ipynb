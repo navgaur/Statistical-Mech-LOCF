{
  "nbformat": 4,
  "nbformat_minor": 0,
  "metadata": {
    "colab": {
      "provenance": [],
      "authorship_tag": "ABX9TyOlRaz+xXMWplyII5moJzPE",
      "include_colab_link": true
    },
    "kernelspec": {
      "name": "python3",
      "display_name": "Python 3"
    },
    "language_info": {
      "name": "python"
    }
  },
  "cells": [
    {
      "cell_type": "markdown",
      "metadata": {
        "id": "view-in-github",
        "colab_type": "text"
      },
      "source": [
        "<a href=\"https://colab.research.google.com/github/navgaur/Statistical-Mech-LOCF/blob/test/partition1.ipynb\" target=\"_parent\"><img src=\"https://colab.research.google.com/assets/colab-badge.svg\" alt=\"Open In Colab\"/></a>"
      ]
    },
    {
      "cell_type": "markdown",
      "source": [
        "# <u>**Partition Function**</u>\n",
        "\n",
        "Partition Function (PF) helps in relating micro-states with macroscopic properties. PF helps us in calculating macroscopic quantities like Entropy, pressure etc.\n",
        "\n",
        "\n",
        "**Computation of the partition function Z(b) for the systems with a finite number of single particle levels (e.g., 2 level, 3 level etc.) and finite number of non-interacting particles N under Maxwell-Boltzmann/ Fermi-Dirac/Bose Einstein statistics**\n",
        "\n",
        "$$f(E) = \\frac{1}{exp\\left( \\frac{E--\\mu}{kT}\\right) + a } $$\n",
        "\n",
        "-  For Maxwell-Boltzman, a = 0\n",
        "-  For Bose-Einstein, a = -1\n",
        "-  For Fermi-Dirac, a = +1"
      ],
      "metadata": {
        "id": "BhWJcN3RLFcr"
      }
    },
    {
      "cell_type": "markdown",
      "source": [
        "##**Maxwell-Boltzman statistics** (classical statistics/case)\n",
        "\n",
        "In this statistics\n",
        "  - particles are distinguishable\n",
        "  - Any number of particles can be in one state\n",
        "\n",
        "$$f_{MB}(E) = \\frac{1}{exp\\left( \\frac{E--\\mu}{kT} \\right)} $$\n",
        "\n",
        "where $E$ is the energy, $\\mu$ is the chemical potential and $T$ is the absolute temperature.\n"
      ],
      "metadata": {
        "id": "XJs62g7-L_rM"
      }
    },
    {
      "cell_type": "code",
      "source": [],
      "metadata": {
        "id": "rH3zAHtzL_C9"
      },
      "execution_count": null,
      "outputs": []
    },
    {
      "cell_type": "markdown",
      "source": [
        "##**Bose-Einstein statistics**\n",
        "\n",
        " - Particles are indistinguishable\n",
        " - Bosons have integer spin (0,1,2, etc.), any number of particles can be in one state\n",
        "\n",
        "$$f_{BE}(E) = \\frac{1}{exp\\left( \\frac{E--\\mu}{kT}\\right) - 1 } $$\n",
        "\n",
        "where $E$ is the energy, $\\mu$ is the chemical potential and $T$ is the absolute temperature.\n"
      ],
      "metadata": {
        "id": "oA0SmdzPM7Fc"
      }
    },
    {
      "cell_type": "markdown",
      "source": [],
      "metadata": {
        "id": "HeN3idtGNIpI"
      }
    },
    {
      "cell_type": "markdown",
      "source": [
        "##**Fermi-Dirac statistics**\n",
        "\n",
        " - Particles are indistinguishable\n",
        " - Fermions have half integer (1/2,3/2 etc.) spin. Not more than one particle can be in one state.\n",
        "\n",
        "$$f_{FD}(E) = \\frac{1}{exp\\left( \\frac{E--\\mu}{kT}\\right) + 1 } $$\n",
        "\n",
        "where $E$ is the energy, $\\mu$ is the chemical potential and $T$ is the absolute temperature.\n"
      ],
      "metadata": {
        "id": "lVbZ7tQ8NJOz"
      }
    }
  ]
}